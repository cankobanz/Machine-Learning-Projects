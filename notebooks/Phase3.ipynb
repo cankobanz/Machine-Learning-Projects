{
 "cells": [
  {
   "cell_type": "markdown",
   "metadata": {},
   "source": [
    "**Question 1**\n",
    "**(a)**\n",
    "$$\n",
    "Q \n",
    "= \n",
    "\\begin{bmatrix}\n",
    "    0 & 0_{d}^T\\\\\n",
    "    0_{d} & I_{d}\n",
    "\\end{bmatrix}_{(d+1)x(d+1)}\n",
    "%\n",
    "\\;\n",
    "u =\n",
    "\\begin{bmatrix}\n",
    "    b\\\\\n",
    "    w_1\\\\\n",
    "    .\\\\\n",
    "    .\\\\\n",
    "    .\\\\\n",
    "    w_d\n",
    "\\end{bmatrix}_{(d+1)x1}\n",
    "$$\n",
    "\\\n",
    "$$\n",
    "u^TQu = \n",
    "\\begin{bmatrix}\n",
    "    b\\:\n",
    "    w\n",
    "\\end{bmatrix}\n",
    "%\n",
    "\\begin{bmatrix}\n",
    "    0 & 0_{d}^T\\\\\n",
    "    0_{d} & I_{d}\n",
    "\\end{bmatrix}\n",
    "%\n",
    "\\begin{bmatrix}\n",
    "    b\\\\\n",
    "    w\n",
    "\\end{bmatrix}\n",
    "$$\n",
    "\\\n",
    "$$\n",
    "u^TQ = \n",
    "\\begin{bmatrix}\n",
    "    0 & w_1 &.&.&.&w_d\n",
    "\\end{bmatrix}\n",
    "$$\n",
    "$$\n",
    "u^TQu = \n",
    "\\begin{bmatrix}\n",
    "    0 & w_1 &.&.&.&w_d\n",
    "\\end{bmatrix}\n",
    "%\n",
    "\\begin{bmatrix}\n",
    "    b\\\\\n",
    "    w_1\\\\\n",
    "    .\\\\\n",
    "    .\\\\\n",
    "    .\\\\\n",
    "    w_d\n",
    "\\end{bmatrix}\n",
    "$$\n",
    "\n",
    "$$\n",
    "u^TQu = \n",
    "\\begin{bmatrix}\n",
    "    0 + w_1^2 + w_2^2+...+w_d^2\n",
    "\\end{bmatrix}\n",
    "= [w^2] \\geq0\n",
    "$$"
   ]
  },
  {
   "cell_type": "markdown",
   "metadata": {},
   "source": [
    "**Question 1**\n",
    "**(b)**\n",
    "$$\n",
    "x_1 = [0, 0] \\; y_1 = -1\n",
    "\\\\\n",
    "x_2 = [0, -1] \\; y_2 = -1\n",
    "\\\\\n",
    "x_3 = [-2, 0] \\; y_3 = +1\n",
    "$$\n",
    "\\\n",
    "$$ min \\dfrac{1}{2} w^Tw = \\dfrac{1}{2} (w_1^2+w_1^2)$$\n",
    "\n",
    "\n",
    "subject to$$ y_n(w^T x_n +b) \\geq1$$\n",
    "\n",
    "From the constraint above\n",
    "$$ -b \\geq 1 \\;\\;\\;\\;\\;\\;\\;\\;\\;\\;\\;\\;\\; (1)\\\\\n",
    "(w_2-b)\\geq 1 \\;\\;\\;\\;\\;\\; (2)\\\\\n",
    "(-2w_1+b) \\geq 1 \\;\\;\\; (3) $$\n",
    "From (1) and (3):$$w_1 \\leq -1$$\n",
    "From (1) and (2):$$b \\leq -1$$ and $$w_2\\geq 1+b$$ Thus,\n",
    "$$w_2 \\geq 0$$\n",
    "To make  $\\dfrac{1}{2} w^Tw = \\dfrac{1}{2} (w_1^2+w_1^2)$ minimum, the $b$,$w_1$ and $w_2$ are chosen as\n",
    "$b=-1$, $w_1=-1$ and $w_2=0$ (the optimum solution)\n",
    "\n",
    "\n",
    "From these w and b, Optimal Hyperplane is:$$g(x) =sign(x_1-1) $$\n",
    "And the margin is: $$ \\dfrac{1}{\\|w\\|} = \\dfrac{1}{\\sqrt{(-1)^2+0}}=1$$"
   ]
  },
  {
   "cell_type": "code",
   "execution_count": 2,
   "metadata": {},
   "outputs": [
    {
     "data": {
      "image/png": "[encoded data removed]",
      "text/plain": [
       "<Figure size 432x288 with 1 Axes>"
      ]
     },
     "metadata": {
      "needs_background": "light"
     },
     "output_type": "display_data"
    }
   ],
   "source": [
    "import matplotlib.pyplot as plt\n",
    "plt.axvline(x=-1,c='r',linestyle='-')\n",
    "plt.scatter([0,0],[0,-1],c='b', marker='x')\n",
    "plt.scatter(-2,0,c='b', marker='o')\n",
    "plt.title('The decision boundary and Support Vectors')\n",
    "plt.xlabel(\"$x_{1}$\")\n",
    "plt.ylabel(\"$x_{2}$\")\n",
    "plt.legend([\"decision boundary\", \"Support Vectors, $y=-1$\",\"Support Vector, $y=1$\"], loc =\"lower left\")\n",
    "plt.grid()\n",
    "plt.show()"
   ]
  },
  {
   "cell_type": "markdown",
   "metadata": {},
   "source": [
    "## Question 1.c"
   ]
  },
  {
   "cell_type": "code",
   "execution_count": 3,
   "metadata": {},
   "outputs": [],
   "source": [
    "import numpy as np\n",
    "import cv2"
   ]
  },
  {
   "cell_type": "code",
   "execution_count": 4,
   "metadata": {},
   "outputs": [],
   "source": [
    "from cvxopt import matrix, solvers\n",
    "\n",
    "X = np.array([[0,0],[0,-1],[-2,0]])\n",
    "y = np.array([-1,-1,+1]).reshape((-1,1))\n",
    "\n",
    "Q = np.identity(X.shape[1]+1)\n",
    "Q[0,0] = 0\n",
    "Q = matrix(Q)\n",
    "\n",
    "p = np.zeros((X.shape[1]+1,1))\n",
    "p = matrix(p)\n",
    "\n",
    "A = y*X\n",
    "A = np.hstack((y,A))\n",
    "A = matrix(A)*-1.0\n",
    "\n",
    "c = -np.ones((y.shape[0],1))\n",
    "c = matrix(c)"
   ]
  },
  {
   "cell_type": "code",
   "execution_count": 5,
   "metadata": {},
   "outputs": [
    {
     "name": "stdout",
     "output_type": "stream",
     "text": [
      "bias:\n",
      "-1.0000000000040985\n",
      "weights:\n",
      "[-1.00e+00]\n",
      "[ 7.97e-06]\n",
      "\n"
     ]
    }
   ],
   "source": [
    "solvers.options['show_progress'] = False\n",
    "solvers.options['abstol'] = 1e-10\n",
    "solvers.options['reltol'] = 1e-10\n",
    "solvers.options['feastol'] = 1e-10\n",
    "\n",
    "sol=solvers.qp(Q,p, A, c)\n",
    "b = sol['x'][0]\n",
    "w = sol['x'][1:]\n",
    "print(\"bias:\")\n",
    "print(b)\n",
    "print(\"weights:\")\n",
    "print(w)"
   ]
  },
  {
   "cell_type": "markdown",
   "metadata": {},
   "source": [
    "As seen from the results above bias is approximately $-1$, $w_1$ is $-1$ and $w_2$ is a very small value which is approximately $0$."
   ]
  },
  {
   "cell_type": "markdown",
   "metadata": {},
   "source": [
    "## Question 1.d"
   ]
  },
  {
   "cell_type": "code",
   "execution_count": 6,
   "metadata": {},
   "outputs": [],
   "source": [
    "# load the y_train and y_test to use in the program\n",
    "y_train = np.load('orientations_train.npy')\n",
    "y_test = np.load('orientations_test.npy')\n",
    "\n",
    "#since it is a classification problem, y_train and y_test are label encoded. Thus, the float numbers in y_train and y_test are\n",
    "#turned to integers. since there are 15 different number in y_train and y_test, there are 15 classes\n",
    "#with label encoding the classes are encoded as integer numbers starting from 0 to 14(included)\n",
    "from sklearn.preprocessing import LabelEncoder\n",
    "le = LabelEncoder()\n",
    "y_train = le.fit_transform(y_train)\n",
    "y_test = le.transform(y_test)\n",
    "\n",
    "# create a matrix to store the training image data, a row for every data sample\n",
    "x_train=np.empty((10000,4096))\n",
    "main_path='3dshapes_train/'\n",
    "jpg='.jpg'\n",
    "for i in range(10000):\n",
    "    conv = str(i)\n",
    "    path = main_path+conv+jpg\n",
    "    img = cv2.imread(path, cv2.IMREAD_GRAYSCALE)\n",
    "    img = img.flatten()\n",
    "    x_train[i]=img\n",
    "    \n",
    "# test data is load like the training data\n",
    "x_test=np.zeros((1000,4096))\n",
    "main_path2='3dshapes_test/'\n",
    "for i in range(1000):\n",
    "    conv = str(i)\n",
    "    path = main_path2+conv+jpg\n",
    "    img = cv2.imread(path, cv2.IMREAD_GRAYSCALE)\n",
    "    img = img.flatten()\n",
    "    x_test[i]=img"
   ]
  },
  {
   "cell_type": "code",
   "execution_count": 7,
   "metadata": {},
   "outputs": [],
   "source": [
    "#in phase 1 and 2, PLS is used for dimensionality reduction\n",
    "from sklearn.cross_decomposition import PLSRegression\n",
    "model = PLSRegression(n_components=100)\n",
    "model.fit(x_train, y_train)\n",
    "\n",
    "x_train_PLS=model.transform(x_train)\n",
    "x_test_PLS=model.transform(x_test)"
   ]
  },
  {
   "cell_type": "code",
   "execution_count": 8,
   "metadata": {},
   "outputs": [],
   "source": [
    "#By taking the samples y=12 and y=13, create the train dataset for binary classification.\n",
    "index_list = list()\n",
    "i=0\n",
    "x=0\n",
    "y_train_binary= list()\n",
    "for y in y_train:\n",
    "    if y==12:\n",
    "        y_train_binary.append(-1)\n",
    "        index_list.append(x)\n",
    "    elif y==13:\n",
    "        y_train_binary.append(+1)\n",
    "        index_list.append(x)\n",
    "    x +=1\n",
    "y_train_binary = np.array(y_train_binary)\n",
    "x_train_binary = np.zeros((y_train_binary.shape[0], x_train_PLS.shape[1]))\n",
    "j=0\n",
    "for i in index_list:\n",
    "    x_train_binary[j] = x_train_PLS[i]\n",
    "    j+=1"
   ]
  },
  {
   "cell_type": "code",
   "execution_count": 9,
   "metadata": {},
   "outputs": [],
   "source": [
    "#By taking the samples y=12 and y=13, create the train dataset for binary classification.\n",
    "index_list = list()\n",
    "i=0\n",
    "x=0\n",
    "y_test_binary= list()\n",
    "for y in y_test:\n",
    "    if y==12:\n",
    "        y_test_binary.append(-1)\n",
    "        index_list.append(x)\n",
    "    elif y==13:\n",
    "        y_test_binary.append(+1)\n",
    "        index_list.append(x)\n",
    "    x +=1\n",
    "y_test_binary = np.array(y_test_binary)\n",
    "\n",
    "x_test_binary = np.zeros((y_test_binary.shape[0],x_test_PLS.shape[1]))\n",
    "j=0\n",
    "for i in index_list:\n",
    "    x_test_binary[j]=x_test_PLS[i]\n",
    "    j+=1"
   ]
  },
  {
   "cell_type": "code",
   "execution_count": 10,
   "metadata": {},
   "outputs": [],
   "source": [
    "Q = np.identity(x_train_binary.shape[1]+1)\n",
    "Q[0,0] = 0\n",
    "Q = matrix(Q)\n",
    "\n",
    "p = np.ones((x_train_binary.shape[1]+1,1))\n",
    "p = matrix(p)\n",
    "\n",
    "y_train_binary = y_train_binary.reshape((-1,1))\n",
    "A = y_train_binary*x_train_binary\n",
    "A = np.hstack((y_train_binary,A))\n",
    "A = matrix(A)*-1.0\n",
    "\n",
    "c = -np.ones((y_train_binary.shape[0],1))\n",
    "c = matrix(c)"
   ]
  },
  {
   "cell_type": "code",
   "execution_count": 11,
   "metadata": {},
   "outputs": [],
   "source": [
    "#Setting solver parameters (change default to decrease tolerance) \n",
    "solvers.options['show_progress'] = False\n",
    "#solvers.options['abstol'] = 1e-10\n",
    "#solvers.options['reltol'] = 1e-10\n",
    "#solvers.options['feastol'] = 1e-10\n",
    "sol=solvers.qp(Q,p,A,c)\n",
    "b = sol['x'][0]\n",
    "w = sol['x'][1:]"
   ]
  },
  {
   "cell_type": "code",
   "execution_count": 12,
   "metadata": {},
   "outputs": [
    {
     "name": "stdout",
     "output_type": "stream",
     "text": [
      "Train Accuracy of binary classification using qp solver: 1.0\n"
     ]
    }
   ],
   "source": [
    "#find predicted y_train values\n",
    "y_pred = np.dot(x_train_binary, w)+b\n",
    "#if the found y value is greater than 0 than it is labeled as 1; otherwise labeled as -1\n",
    "y_pred_ind = (y_pred > 0).flatten()\n",
    "y_pred = np.where(y_pred_ind, 1, -1)\n",
    "#make it a coloumn vector to have same dimensions with the ground truth\n",
    "y_pred = y_pred.reshape((-1,1))\n",
    "\n",
    "#create a true-false vector,if the difference of y_pred and and the ground truth is zero, which means the prediction is true,\n",
    "#otherwise the difference is -2 or +2 and the prediction is false.\n",
    "trf = ((y_pred - y_train_binary)==0)\n",
    "\n",
    "#put 1 to trues, and 0 to false, thus to sum of the elements of the vector trf gives number of predicted correct.\n",
    "trf = np.where(trf, 1, 0)\n",
    "#print percent of accuracy\n",
    "acc = np.sum(trf)/trf.shape[0]\n",
    "print(\"Train Accuracy of binary classification using qp solver: {}\".format(acc))"
   ]
  },
  {
   "cell_type": "code",
   "execution_count": 12,
   "metadata": {},
   "outputs": [
    {
     "name": "stdout",
     "output_type": "stream",
     "text": [
      "Test Accuracy of binary classification using qp solver: 0.9935483870967742\n"
     ]
    }
   ],
   "source": [
    "#find predicted y_test values\n",
    "y_pred = np.dot(x_test_binary, w)+b\n",
    "#if the found y value is greater than 0 than it is labeled as 1; otherwise labeled as -1\n",
    "y_pred_ind = (y_pred > 0).flatten()\n",
    "y_pred = np.where(y_pred_ind, 1, -1)\n",
    "\n",
    "#create a true-false vector,if the difference of y_pred and and the ground truth is zero, which means the prediction is true,\n",
    "#otherwise the difference is -2 or +2 and the prediction is false.\n",
    "trf = ((y_pred - y_test_binary)==0)\n",
    "\n",
    "#put 1 to trues, and 0 to false, thus to sum of the elements of the vector trf gives number of predicted correct.\n",
    "trf = np.where(trf, 1, 0)\n",
    "#print percent of accuracy\n",
    "acc = np.sum(trf)/trf.shape[0]\n",
    "print(\"Test Accuracy of binary classification using qp solver: {}\".format(acc))"
   ]
  },
  {
   "cell_type": "markdown",
   "metadata": {},
   "source": [
    "To use the qp solver of cvxopt library, it is needed to convert the minimization problem with constraints to the form of qp solver problem. For this purpose, before using qp solver of cvxopt library, Q, p, A and c matrices and vectors are created. Therefore, to use qp solver accurately, these matrices and vectors given as input to sp solver must be created correctly. At first, we did not adjust the dimensions of Q and p matrices due to we miss out that their dimensions are related with the dimension of weight vector."
   ]
  },
  {
   "cell_type": "markdown",
   "metadata": {},
   "source": [
    "## Question 1.e "
   ]
  },
  {
   "cell_type": "code",
   "execution_count": 13,
   "metadata": {},
   "outputs": [
    {
     "name": "stdout",
     "output_type": "stream",
     "text": [
      "Train Accuracy of SVM Classifier: 1.0\n",
      "Test Accuracy of SVM Classifier: 1.0\n"
     ]
    }
   ],
   "source": [
    "#binary classification with SVM of scikitlearn with on created dataset in question 1.d\n",
    "#kernel='linear' is like not using kernel trick\n",
    "from sklearn.svm import SVC\n",
    "classifier = SVC(kernel='linear',random_state = 0)\n",
    "classifier.fit(x_train_binary, y_train_binary.reshape(-1))\n",
    "\n",
    "#calculate train accuracy\n",
    "y_train_binary_pred = classifier.predict(x_train_binary)\n",
    "acc = 0\n",
    "for i in range(y_train_binary.shape[0]):\n",
    "    if y_train_binary[i] == y_train_binary_pred[i]:\n",
    "        acc += 1\n",
    "acc = acc/y_train_binary.shape[0]\n",
    "print(\"Train Accuracy of SVM Classifier: {}\".format(acc))\n",
    "\n",
    "#calculate test accuracy\n",
    "y_test_binary_pred = classifier.predict(x_test_binary)\n",
    "acc = 0\n",
    "for i in range(y_test_binary.shape[0]):\n",
    "    if y_test_binary[i] == y_test_binary_pred[i]:\n",
    "        acc += 1\n",
    "acc = acc/y_test_binary.shape[0]\n",
    "print(\"Test Accuracy of SVM Classifier: {}\".format(acc))"
   ]
  },
  {
   "cell_type": "markdown",
   "metadata": {},
   "source": [
    "**Is it more effcient than implementing SVM using the cvxopt library? Please investigate and discuss the implementation details of the SVM function in scikit-learn.**\n",
    "\n",
    "For calculations, SVM function in scikit-learn uses libsvm library. There are many implementatitons like ν-Support Vector Classification or Distribution Estimation (One-class SVM) but the most used version is C-Support Vector Classification which can be defined as soft margins SVM. However, playing C it can be aproximated hard margin SVM too. For example, they said it might be problem storing dense Q matrix when is too large to be stored. For this problem they have defined decomposition method. Another optimization mentioned is the shrinking technique tries to identify and remove some bounded elements, to shrink the problem and save the training time. In summary, there are many contributions and optimization techniques in the background beyond the formulation when we use scikit-learn SVM function. This makes more effcient to use scikit-learn SVM function compared to cvxopt library implementation.\n",
    "\n",
    "\n",
    "**Reference:** Chang and Lin, LIBSVM: A Library for Support Vector Machines. https://www.csie.ntu.edu.tw/~cjlin/papers/libsvm.pdf"
   ]
  },
  {
   "cell_type": "markdown",
   "metadata": {},
   "source": [
    "## Question 1.f"
   ]
  },
  {
   "cell_type": "code",
   "execution_count": 14,
   "metadata": {},
   "outputs": [
    {
     "name": "stdout",
     "output_type": "stream",
     "text": [
      "Multi-Class Train Accuracy of SVM Classifier: 1.0\n",
      "Multi-Class Test Accuracy of SVM Classifier: 1.0\n"
     ]
    }
   ],
   "source": [
    "#multi-class classification with SVM of scikitlearn\n",
    "#kernel='linear' is like not using kernel trick\n",
    "classifier = SVC(kernel='linear',random_state = 0)\n",
    "classifier.fit(x_train_PLS, y_train)\n",
    "\n",
    "#calculate train accuracy\n",
    "y_train_multi_pred = classifier.predict(x_train_PLS)\n",
    "acc = 0\n",
    "for i in range(y_train.shape[0]):\n",
    "    if y_train[i] == y_train_multi_pred[i]:\n",
    "        acc += 1\n",
    "acc = acc/y_train.shape[0]\n",
    "print(\"Multi-Class Train Accuracy of SVM Classifier: {}\".format(acc))\n",
    "\n",
    "#calculate test accuracy\n",
    "y_test_multi_pred = classifier.predict(x_test_PLS)\n",
    "acc = 0\n",
    "for i in range(y_test.shape[0]):\n",
    "    if y_test[i] == y_test_multi_pred[i]:\n",
    "        acc += 1\n",
    "acc = acc/y_test.shape[0]\n",
    "print(\"Multi-Class Test Accuracy of SVM Classifier: {}\".format(acc))"
   ]
  },
  {
   "cell_type": "code",
   "execution_count": 15,
   "metadata": {},
   "outputs": [
    {
     "name": "stdout",
     "output_type": "stream",
     "text": [
      "Multi-Class Train Accuracy of SVM Classifier with RBF kernel trick: 0.9988\n",
      "Multi-Class Test Accuracy of SVM Classifier with RBF kernel trick: 0.994\n"
     ]
    }
   ],
   "source": [
    "#multi-class classification with SVM of scikitlearn\n",
    "#kernel='rbf'\n",
    "classifier = SVC(kernel='rbf',random_state = 0)\n",
    "classifier.fit(x_train_PLS, y_train)\n",
    "\n",
    "#calculate train accuracy\n",
    "y_train_multi_pred = classifier.predict(x_train_PLS)\n",
    "acc = 0\n",
    "for i in range(y_train.shape[0]):\n",
    "    if y_train[i] == y_train_multi_pred[i]:\n",
    "        acc += 1\n",
    "acc = acc/y_train.shape[0]\n",
    "print(\"Multi-Class Train Accuracy of SVM Classifier with RBF kernel trick: {}\".format(acc))\n",
    "\n",
    "#calculate test accuracy\n",
    "y_test_multi_pred = classifier.predict(x_test_PLS)\n",
    "acc = 0\n",
    "for i in range(y_test.shape[0]):\n",
    "    if y_test[i] == y_test_multi_pred[i]:\n",
    "        acc += 1\n",
    "acc = acc/y_test.shape[0]\n",
    "print(\"Multi-Class Test Accuracy of SVM Classifier with RBF kernel trick: {}\".format(acc))"
   ]
  },
  {
   "cell_type": "markdown",
   "metadata": {},
   "source": [
    "We do not observe any performance when we apply kernel trick, in contrast we saw a decrease in both train and test accuracy values. As seen from the result of SVM without a kernel trick, the train and test accuracies are 1, which means that the data is linearly seperable. Probably, because of that, using RBF as kernel caused to performance decrease."
   ]
  },
  {
   "cell_type": "markdown",
   "metadata": {},
   "source": [
    "## Question 1.g"
   ]
  },
  {
   "cell_type": "code",
   "execution_count": 16,
   "metadata": {},
   "outputs": [
    {
     "name": "stdout",
     "output_type": "stream",
     "text": [
      "When PCA is not applied before training the SVM classifier, Elapsed Time to train: 38.0497510433197 sec\n",
      "Multi-Class Train Accuracy of SVM Classifier without using PCA: 1.0\n",
      "Multi-Class Test Accuracy of SVM Classifier without using PCA: 1.0\n"
     ]
    }
   ],
   "source": [
    "import time\n",
    "#Doing classification with SVM without using dimensionality reduction:\n",
    "classifier = SVC(kernel='linear',random_state = 0)\n",
    "\n",
    "start = time.time()\n",
    "classifier.fit(x_train, y_train)\n",
    "print(\"When PCA is not applied before training the SVM classifier, Elapsed Time to train: {} sec\".format(time.time()-start))\n",
    "\n",
    "#calculate train accuracy\n",
    "y_train_pred = classifier.predict(x_train)\n",
    "acc = 0\n",
    "for i in range(y_train.shape[0]):\n",
    "    if y_train[i] == y_train_pred[i]:\n",
    "        acc += 1\n",
    "acc = acc/y_train.shape[0]\n",
    "print(\"Multi-Class Train Accuracy of SVM Classifier without using PCA: {}\".format(acc))\n",
    "\n",
    "#calculate test accuracy\n",
    "y_test_pred = classifier.predict(x_test)\n",
    "acc = 0\n",
    "for i in range(y_test.shape[0]):\n",
    "    if y_test[i] == y_test_pred[i]:\n",
    "        acc += 1\n",
    "acc = acc/y_test.shape[0]\n",
    "print(\"Multi-Class Test Accuracy of SVM Classifier without using PCA: {}\".format(acc))"
   ]
  },
  {
   "cell_type": "code",
   "execution_count": 17,
   "metadata": {},
   "outputs": [
    {
     "name": "stdout",
     "output_type": "stream",
     "text": [
      "When PCA is applied before training the SVM classifier, Elapsed Time to train: 1.6440963745117188 sec\n",
      "Multi-Class Train Accuracy of SVM Classifier using PCA: 1.0\n",
      "Multi-Class Test Accuracy of SVM Classifier with using PCA: 1.0\n"
     ]
    }
   ],
   "source": [
    "#Doing classification with SVM using PCA before the classification:\n",
    "\n",
    "#Aplly PCA to the x_train and x_test\n",
    "from sklearn.decomposition import PCA\n",
    "pca = PCA(n_components=100)\n",
    "x_train_PCA = pca.fit_transform(x_train)\n",
    "x_test_PCA = pca.transform(x_test)\n",
    "\n",
    "#multi-class classification with SVM of scikitlearn\n",
    "classifier = SVC(kernel='linear',random_state = 0)\n",
    "\n",
    "start = time.time()\n",
    "classifier.fit(x_train_PCA, y_train)\n",
    "print(\"When PCA is applied before training the SVM classifier, Elapsed Time to train: {} sec\".format(time.time()-start))\n",
    "\n",
    "#calculate train accuracy\n",
    "y_train_PCA_pred = classifier.predict(x_train_PCA)\n",
    "acc = 0\n",
    "for i in range(y_train.shape[0]):\n",
    "    if y_train[i] == y_train_PCA_pred[i]:\n",
    "        acc += 1\n",
    "acc = acc/y_train.shape[0]\n",
    "print(\"Multi-Class Train Accuracy of SVM Classifier using PCA: {}\".format(acc))\n",
    "\n",
    "#calculate test accuracy\n",
    "y_test_PCA_pred = classifier.predict(x_test_PCA)\n",
    "acc = 0\n",
    "for i in range(y_test.shape[0]):\n",
    "    if y_test[i] == y_test_PCA_pred[i]:\n",
    "        acc += 1\n",
    "acc = acc/y_test.shape[0]\n",
    "print(\"Multi-Class Test Accuracy of SVM Classifier with using PCA: {}\".format(acc))"
   ]
  },
  {
   "cell_type": "markdown",
   "metadata": {},
   "source": [
    "As seen from the results of the above two cells, when PCA is applied to the data before the training of classification, time to train the SVM classifier decreases substantially. But Train and Test accuracy values do not change depending on applying PCA or not."
   ]
  },
  {
   "cell_type": "markdown",
   "metadata": {},
   "source": [
    "## Question 1.h "
   ]
  },
  {
   "cell_type": "markdown",
   "metadata": {},
   "source": [
    "In this phase, firstly, PLS dimensionality reduction is applied to the dataset since it is applied in phase1 and phase2. In part d of the question, from this reducted dataset a binary classification dataset is created, and it is classified using cvxopt library and svm of scikit learn in part d and part e, respectively.\n",
    "\n",
    "In part f, this reducted dataset is used for multi-class classification. And in part g, the raw data that is not reducted with any dimensionality reduction technique is used in the training of svm multi-class classifier. Then, PCA is applied to the raw data and the data reducted with PCA is used in the training of svm multi-class classifier.\n",
    "\n",
    "Except, the svm classification with 'rbf' kernel trick, and test accuracy of binary classification using qp solver of cvxopt library, all train and test accuracy values for this question is %100.\n",
    "\n",
    "In phase 2, logictic regression from scratch gives %98.8 train, %98 test accuracy. Naive Bayes classifier gives %93.35 train, %93.2 test accuracy.\n",
    "\n",
    "As it can be undestood from the results of hard margin SVM, the dataset is linearly separable so the hard-margin SVM classifiers classifies it 100% training accuracy. It performs better than the other classifier that are applied before. Actually it can be expected because the accuracy values of logistic regressor is so high and SVM generally performs better than the classifiers such as logistic regression, decision tree, and random forest. If the dataset was not linearly seperable the accuracy values of SVM without kernel trick would not be 100%, but by applying a kernel trick it may be 100% or higher than the other classifiers."
   ]
  },
  {
   "cell_type": "markdown",
   "metadata": {},
   "source": [
    "## Question 2.a"
   ]
  },
  {
   "cell_type": "code",
   "execution_count": 13,
   "metadata": {
    "scrolled": false
   },
   "outputs": [
    {
     "data": {
      "text/plain": [
       "<Figure size 432x288 with 0 Axes>"
      ]
     },
     "metadata": {},
     "output_type": "display_data"
    },
    {
     "data": {
      "image/png": "[encoded data removed]",
      "text/plain": [
       "<Figure size 576x576 with 1 Axes>"
      ]
     },
     "metadata": {
      "needs_background": "light"
     },
     "output_type": "display_data"
    }
   ],
   "source": [
    "def inv_sigmoid(values):\n",
    "    return np.log(values/(1-values))\n",
    "\n",
    "mus = [np.array([0, 1]), np.array([1, 0]), np.array([-1, 0]), np.array([0, -1])]\n",
    "covs = [np.identity(2), np.identity(2), np.identity(2), np.identity(2)]\n",
    "pis = np.array([0.25, 0.25, 0.25, 0.25])\n",
    "\n",
    "n =500\n",
    "samples = []\n",
    "acc_pis = [np.sum(pis[:i]) for i in range(1, len(pis)+1)]\n",
    "\n",
    "for i in range(n):\n",
    "    # sample uniform\n",
    "    r = np.random.uniform(0, 1)\n",
    "    # select gaussian\n",
    "    k = 0\n",
    "    for i, threshold in enumerate(acc_pis):\n",
    "        if r < threshold:\n",
    "            k = i\n",
    "            break\n",
    "    \n",
    "    selected_mu = mus[k]\n",
    "    selected_cov = covs[k]\n",
    "\n",
    "    # sample from selected gaussian\n",
    "    lambda_, gamma_ = np.linalg.eig(selected_cov)\n",
    "    \n",
    "    dimensions = len(lambda_)\n",
    "\n",
    "    # sampling from normal distribution\n",
    "    y_s = np.random.uniform(0, 1, size=(dimensions * 1, 3))\n",
    "    #print(y_s.shape)\n",
    "    x_normal = np.mean(inv_sigmoid(y_s), axis=1).reshape((-1, dimensions))\n",
    "    #print(x_normal.shape)\n",
    "    # transforming into multivariate distribution\n",
    "    x_multi = (x_normal * lambda_) @ gamma_ + selected_mu\n",
    "    samples.append(x_multi.tolist()[0])\n",
    "\n",
    "fig = plt.figure()\n",
    "samples = np.array(samples)\n",
    "plt.figure(figsize = (8,8))\n",
    "plt.scatter(samples[:, 0], samples[:, 1])\n",
    "plt.title('Gaussian Mixture Model Samples')\n",
    "plt.ylabel('x2')\n",
    "plt.xlabel('x1')\n",
    "plt.show()"
   ]
  },
  {
   "cell_type": "markdown",
   "metadata": {},
   "source": [
    "**Describe how the sampling strategy you will use work.**\n",
    "\n",
    "Gaussian mixture models are formed by multiple multivariate Gaussian distributions with different mean and covariance matrices. With the selected mean and covariance matrix, it is sampled from Gaussian distribution.\n",
    "\n",
    "**Reference:** Hamacher M. Sampling from Gaussian Mixture Models, 2021, https://medium.com/analytics-vidhya/sampling-from-gaussian-mixture-models-f1ab9cac2721"
   ]
  },
  {
   "cell_type": "markdown",
   "metadata": {},
   "source": [
    "## Question 2.b"
   ]
  },
  {
   "cell_type": "code",
   "execution_count": 22,
   "metadata": {},
   "outputs": [
    {
     "data": {
      "image/png": "[encoded data removed]",
      "text/plain": [
       "<Figure size 576x576 with 1 Axes>"
      ]
     },
     "metadata": {
      "needs_background": "light"
     },
     "output_type": "display_data"
    }
   ],
   "source": [
    "#Loading the required modules\n",
    "\n",
    "#Defining our function \n",
    "def euclidean(x, centroids):\n",
    "    distances = []\n",
    "    for centroid in centroids:\n",
    "        distances.append(np.sqrt(np.sum((centroid - x)**2, axis=1)))\n",
    "    return np.array(distances).T\n",
    "\n",
    "def kmeans(x, k, n_iterations):\n",
    "    # k different randomly centroids are chosen.\n",
    "    idx = np.random.choice(len(x), k, replace=False)\n",
    "    centroids = x[idx]\n",
    "    #Distance of each point to current centroids are calculated using Euclidean distance method.\n",
    "    distances = euclidean(x, centroids)\n",
    "    #Each data point is assigned to the closest centroid.\n",
    "    clusters = []\n",
    "    for d in distances: \n",
    "        clusters.append(np.argmin(d))\n",
    "    clusters = np.array(clusters)\n",
    "    \n",
    "    #Similar work is repeated until predefined repetation occured and all the data points are reassigned.\n",
    "    for _ in range(n_iterations): \n",
    "        centroids = []\n",
    "        for idx in range(k):\n",
    "            #Updating Centroids by taking mean of Cluster it belongs to\n",
    "            temp_cent = x[clusters==idx].mean(axis=0) \n",
    "            centroids.append(temp_cent)\n",
    "         \n",
    "        distances = euclidean(x, centroids)\n",
    "        clusters = []\n",
    "        for d in distances: \n",
    "            clusters.append(np.argmin(d))\n",
    "        clusters = np.array(clusters)\n",
    "\n",
    "    return clusters\n",
    "\n",
    "label = kmeans(samples,4,1000)\n",
    "#Visualize the results\n",
    "plt.figure(figsize = (8,8))\n",
    "u_labels = np.unique(label)\n",
    "for i in u_labels:\n",
    "    plt.scatter(samples[label == i , 0] , samples[label == i , 1] , label = i)\n",
    "plt.legend()\n",
    "plt.show()"
   ]
  },
  {
   "cell_type": "markdown",
   "metadata": {},
   "source": [
    "**Is the k-means able to correctly cluster the different components of the mixture?**\n",
    "Yes, k mean algorithm is successfully clustered different components from the mixture. However, since mean vectors are very close to each other, they look like forming one big blob around (0,0). Even though clusters are not distinct from each other a lot, k-means seperated 4 distributions successfuly.\n",
    "\n",
    "Since covariance matrices and $\\pi$ values are same, the shape of 4 clusters actually very similar. However, center of distributions are determined by mean vectors. From figure, it can be observed that, centroids are approximately found equally to mean vectors which are (0, 1), (1, 0),(-1, 0), (0,-1). It is expected since covariance matrices and $\\pi$ values are same."
   ]
  }
 ],
 "metadata": {
  "kernelspec": {
   "display_name": "Python 3",
   "language": "python",
   "name": "python3"
  },
  "language_info": {
   "codemirror_mode": {
    "name": "ipython",
    "version": 3
   },
   "file_extension": ".py",
   "mimetype": "text/x-python",
   "name": "python",
   "nbconvert_exporter": "python",
   "pygments_lexer": "ipython3",
   "version": "3.8.5"
  }
 },
 "nbformat": 4,
 "nbformat_minor": 4
}